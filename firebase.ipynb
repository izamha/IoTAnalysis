{
 "cells": [
  {
   "cell_type": "code",
   "execution_count": 132,
   "id": "119433c6",
   "metadata": {},
   "outputs": [],
   "source": [
    "import pandas as pd\n",
    "import seaborn as sns\n",
    "from firebase import firebase\n",
    "from matplotlib import pyplot as plt"
   ]
  },
  {
   "cell_type": "code",
   "execution_count": 35,
   "id": "a26671ab",
   "metadata": {},
   "outputs": [
    {
     "data": {
      "text/plain": [
       "{'1668021419': {'BridgeId': '1',\n",
       "  'Humidity': 46.855507474,\n",
       "  'Latitude': -1.184088,\n",
       "  'Longitude': 27.047712,\n",
       "  'Time': 1668021419,\n",
       "  'VehicleWeight': 337.154299789},\n",
       " '1668021500': {'BridgeId': '1',\n",
       "  'Humidity': 41.527389614,\n",
       "  'Latitude': -1.184088,\n",
       "  'Longitude': 27.047712,\n",
       "  'Time': 1668021500,\n",
       "  'VehicleWeight': 316.949526221},\n",
       " '1668021512': {'BridgeId': '1',\n",
       "  'Humidity': 41.869550534,\n",
       "  'Latitude': -1.184088,\n",
       "  'Longitude': 27.047712,\n",
       "  'Time': 1668021512,\n",
       "  'VehicleWeight': 309.920878662},\n",
       " '1668062652': {'BridgeId': '1',\n",
       "  'Humidity': 33.208562983,\n",
       "  'Latitude': -1.184088,\n",
       "  'Longitude': 27.047712,\n",
       "  'Time': 1668062652,\n",
       "  'VehicleWeight': 337.897285144},\n",
       " '1668062688': {'BridgeId': '1',\n",
       "  'Humidity': 30.278128292,\n",
       "  'Latitude': -1.184088,\n",
       "  'Longitude': 27.047712,\n",
       "  'Time': 1668062688,\n",
       "  'VehicleWeight': 338.872275106},\n",
       " '1668067268': {'BridgeId': '1',\n",
       "  'Humidity': 37.547530886,\n",
       "  'Latitude': -1.184088,\n",
       "  'Longitude': 27.047712,\n",
       "  'Time': 1668067268,\n",
       "  'VehicleWeight': 343.775354815},\n",
       " '1668067344': {'BridgeId': '1',\n",
       "  'Humidity': 47.438952532,\n",
       "  'Latitude': -1.184088,\n",
       "  'Longitude': 27.047712,\n",
       "  'Time': 1668067343,\n",
       "  'VehicleWeight': 310.958267679},\n",
       " '1668071415': {'BridgeId': '1',\n",
       "  'Humidity': 44.303167723,\n",
       "  'Latitude': -1.184088,\n",
       "  'Longitude': 27.047712,\n",
       "  'Time': 1668071415,\n",
       "  'VehicleWeight': 338.441320229},\n",
       " '1668071439': {'BridgeId': '1',\n",
       "  'Humidity': 49.92838054,\n",
       "  'Latitude': -1.184088,\n",
       "  'Longitude': 27.047712,\n",
       "  'Time': 1668071439,\n",
       "  'VehicleWeight': 317.961016903},\n",
       " '1668071465': {'BridgeId': '1',\n",
       "  'Humidity': 45.600857912,\n",
       "  'Latitude': -1.184088,\n",
       "  'Longitude': 27.047712,\n",
       "  'Time': 1668071465,\n",
       "  'VehicleWeight': 345.742595172}}"
      ]
     },
     "execution_count": 35,
     "metadata": {},
     "output_type": "execute_result"
    }
   ],
   "source": [
    "fb = firebase.FirebaseApplication('https://classiot-3ae5a-default-rtdb.firebaseio.com/', None)\n",
    "bridges = fb.get('/Bridges', None)\n",
    "bridges"
   ]
  },
  {
   "cell_type": "code",
   "execution_count": 76,
   "id": "8a1195c3",
   "metadata": {},
   "outputs": [],
   "source": [
    "df = pd.DataFrame.from_dict(bridges)\n",
    "new_df = pd.DataFrame(df.iloc[1])"
   ]
  },
  {
   "cell_type": "code",
   "execution_count": 74,
   "id": "95e33f93",
   "metadata": {},
   "outputs": [
    {
     "data": {
      "text/html": [
       "<div>\n",
       "<style scoped>\n",
       "    .dataframe tbody tr th:only-of-type {\n",
       "        vertical-align: middle;\n",
       "    }\n",
       "\n",
       "    .dataframe tbody tr th {\n",
       "        vertical-align: top;\n",
       "    }\n",
       "\n",
       "    .dataframe thead th {\n",
       "        text-align: right;\n",
       "    }\n",
       "</style>\n",
       "<table border=\"1\" class=\"dataframe\">\n",
       "  <thead>\n",
       "    <tr style=\"text-align: right;\">\n",
       "      <th></th>\n",
       "      <th>1668021419</th>\n",
       "      <th>1668021500</th>\n",
       "      <th>1668021512</th>\n",
       "      <th>1668062652</th>\n",
       "      <th>1668062688</th>\n",
       "      <th>1668067268</th>\n",
       "      <th>1668067344</th>\n",
       "      <th>1668071415</th>\n",
       "      <th>1668071439</th>\n",
       "      <th>1668071465</th>\n",
       "    </tr>\n",
       "  </thead>\n",
       "  <tbody>\n",
       "    <tr>\n",
       "      <th>BridgeId</th>\n",
       "      <td>1</td>\n",
       "      <td>1</td>\n",
       "      <td>1</td>\n",
       "      <td>1</td>\n",
       "      <td>1</td>\n",
       "      <td>1</td>\n",
       "      <td>1</td>\n",
       "      <td>1</td>\n",
       "      <td>1</td>\n",
       "      <td>1</td>\n",
       "    </tr>\n",
       "    <tr>\n",
       "      <th>Humidity</th>\n",
       "      <td>46.855507</td>\n",
       "      <td>41.52739</td>\n",
       "      <td>41.869551</td>\n",
       "      <td>33.208563</td>\n",
       "      <td>30.278128</td>\n",
       "      <td>37.547531</td>\n",
       "      <td>47.438953</td>\n",
       "      <td>44.303168</td>\n",
       "      <td>49.928381</td>\n",
       "      <td>45.600858</td>\n",
       "    </tr>\n",
       "    <tr>\n",
       "      <th>Latitude</th>\n",
       "      <td>-1.184088</td>\n",
       "      <td>-1.184088</td>\n",
       "      <td>-1.184088</td>\n",
       "      <td>-1.184088</td>\n",
       "      <td>-1.184088</td>\n",
       "      <td>-1.184088</td>\n",
       "      <td>-1.184088</td>\n",
       "      <td>-1.184088</td>\n",
       "      <td>-1.184088</td>\n",
       "      <td>-1.184088</td>\n",
       "    </tr>\n",
       "    <tr>\n",
       "      <th>Longitude</th>\n",
       "      <td>27.047712</td>\n",
       "      <td>27.047712</td>\n",
       "      <td>27.047712</td>\n",
       "      <td>27.047712</td>\n",
       "      <td>27.047712</td>\n",
       "      <td>27.047712</td>\n",
       "      <td>27.047712</td>\n",
       "      <td>27.047712</td>\n",
       "      <td>27.047712</td>\n",
       "      <td>27.047712</td>\n",
       "    </tr>\n",
       "    <tr>\n",
       "      <th>Time</th>\n",
       "      <td>1668021419</td>\n",
       "      <td>1668021500</td>\n",
       "      <td>1668021512</td>\n",
       "      <td>1668062652</td>\n",
       "      <td>1668062688</td>\n",
       "      <td>1668067268</td>\n",
       "      <td>1668067343</td>\n",
       "      <td>1668071415</td>\n",
       "      <td>1668071439</td>\n",
       "      <td>1668071465</td>\n",
       "    </tr>\n",
       "    <tr>\n",
       "      <th>VehicleWeight</th>\n",
       "      <td>337.1543</td>\n",
       "      <td>316.949526</td>\n",
       "      <td>309.920879</td>\n",
       "      <td>337.897285</td>\n",
       "      <td>338.872275</td>\n",
       "      <td>343.775355</td>\n",
       "      <td>310.958268</td>\n",
       "      <td>338.44132</td>\n",
       "      <td>317.961017</td>\n",
       "      <td>345.742595</td>\n",
       "    </tr>\n",
       "  </tbody>\n",
       "</table>\n",
       "</div>"
      ],
      "text/plain": [
       "               1668021419  1668021500  1668021512  1668062652  1668062688  \\\n",
       "BridgeId                1           1           1           1           1   \n",
       "Humidity        46.855507    41.52739   41.869551   33.208563   30.278128   \n",
       "Latitude        -1.184088   -1.184088   -1.184088   -1.184088   -1.184088   \n",
       "Longitude       27.047712   27.047712   27.047712   27.047712   27.047712   \n",
       "Time           1668021419  1668021500  1668021512  1668062652  1668062688   \n",
       "VehicleWeight    337.1543  316.949526  309.920879  337.897285  338.872275   \n",
       "\n",
       "               1668067268  1668067344  1668071415  1668071439  1668071465  \n",
       "BridgeId                1           1           1           1           1  \n",
       "Humidity        37.547531   47.438953   44.303168   49.928381   45.600858  \n",
       "Latitude        -1.184088   -1.184088   -1.184088   -1.184088   -1.184088  \n",
       "Longitude       27.047712   27.047712   27.047712   27.047712   27.047712  \n",
       "Time           1668067268  1668067343  1668071415  1668071439  1668071465  \n",
       "VehicleWeight  343.775355  310.958268   338.44132  317.961017  345.742595  "
      ]
     },
     "execution_count": 74,
     "metadata": {},
     "output_type": "execute_result"
    }
   ],
   "source": [
    "df"
   ]
  },
  {
   "cell_type": "code",
   "execution_count": 148,
   "id": "cbd3ff9c",
   "metadata": {},
   "outputs": [
    {
     "data": {
      "text/html": [
       "<div>\n",
       "<style scoped>\n",
       "    .dataframe tbody tr th:only-of-type {\n",
       "        vertical-align: middle;\n",
       "    }\n",
       "\n",
       "    .dataframe tbody tr th {\n",
       "        vertical-align: top;\n",
       "    }\n",
       "\n",
       "    .dataframe thead th {\n",
       "        text-align: right;\n",
       "    }\n",
       "</style>\n",
       "<table border=\"1\" class=\"dataframe\">\n",
       "  <thead>\n",
       "    <tr style=\"text-align: right;\">\n",
       "      <th></th>\n",
       "      <th>Humidity</th>\n",
       "    </tr>\n",
       "  </thead>\n",
       "  <tbody>\n",
       "    <tr>\n",
       "      <th>1668021419</th>\n",
       "      <td>46.855507</td>\n",
       "    </tr>\n",
       "    <tr>\n",
       "      <th>1668021500</th>\n",
       "      <td>41.52739</td>\n",
       "    </tr>\n",
       "    <tr>\n",
       "      <th>1668021512</th>\n",
       "      <td>41.869551</td>\n",
       "    </tr>\n",
       "    <tr>\n",
       "      <th>1668062652</th>\n",
       "      <td>33.208563</td>\n",
       "    </tr>\n",
       "    <tr>\n",
       "      <th>1668062688</th>\n",
       "      <td>30.278128</td>\n",
       "    </tr>\n",
       "    <tr>\n",
       "      <th>1668067268</th>\n",
       "      <td>37.547531</td>\n",
       "    </tr>\n",
       "    <tr>\n",
       "      <th>1668067344</th>\n",
       "      <td>47.438953</td>\n",
       "    </tr>\n",
       "    <tr>\n",
       "      <th>1668071415</th>\n",
       "      <td>44.303168</td>\n",
       "    </tr>\n",
       "    <tr>\n",
       "      <th>1668071439</th>\n",
       "      <td>49.928381</td>\n",
       "    </tr>\n",
       "    <tr>\n",
       "      <th>1668071465</th>\n",
       "      <td>45.600858</td>\n",
       "    </tr>\n",
       "  </tbody>\n",
       "</table>\n",
       "</div>"
      ],
      "text/plain": [
       "             Humidity\n",
       "1668021419  46.855507\n",
       "1668021500   41.52739\n",
       "1668021512  41.869551\n",
       "1668062652  33.208563\n",
       "1668062688  30.278128\n",
       "1668067268  37.547531\n",
       "1668067344  47.438953\n",
       "1668071415  44.303168\n",
       "1668071439  49.928381\n",
       "1668071465  45.600858"
      ]
     },
     "execution_count": 148,
     "metadata": {},
     "output_type": "execute_result"
    }
   ],
   "source": [
    "new_df"
   ]
  },
  {
   "cell_type": "code",
   "execution_count": 162,
   "id": "2dc45549",
   "metadata": {},
   "outputs": [
    {
     "data": {
      "text/plain": [
       "1668021419    1970-01-01\n",
       "1668021500    1970-01-01\n",
       "1668021512    1970-01-01\n",
       "1668062652    1970-01-01\n",
       "1668062688    1970-01-01\n",
       "1668067268    1970-01-01\n",
       "1668067344    1970-01-01\n",
       "1668071415    1970-01-01\n",
       "1668071439    1970-01-01\n",
       "1668071465    1970-01-01\n",
       "Name: Time, dtype: object"
      ]
     },
     "execution_count": 162,
     "metadata": {},
     "output_type": "execute_result"
    }
   ],
   "source": [
    "pd.to_datetime(df.iloc[4]).apply(lambda x: x.date()\n",
    ")\n"
   ]
  },
  {
   "cell_type": "code",
   "execution_count": 77,
   "id": "75462b02",
   "metadata": {},
   "outputs": [
    {
     "data": {
      "text/plain": [
       "Text(0.5, 1.0, 'Humidity Changes vs. Time')"
      ]
     },
     "execution_count": 77,
     "metadata": {},
     "output_type": "execute_result"
    },
    {
     "data": {
      "image/png": "[encoded data removed]",
      "text/plain": [
       "<Figure size 640x480 with 1 Axes>"
      ]
     },
     "metadata": {},
     "output_type": "display_data"
    }
   ],
   "source": [
    "plt.plot(new_df)\n",
    "plt.title('Humidity Changes vs. Time')"
   ]
  },
  {
   "cell_type": "code",
   "execution_count": 145,
   "id": "5cff0b26",
   "metadata": {},
   "outputs": [],
   "source": [
    "humidity = pd.DataFrame(df.iloc[1].reset_index(drop=True))['Humidity']\n",
    "vehicleWeight = pd.DataFrame(df.iloc[5].reset_index(drop=True))['VehicleWeight']\n",
    "date = pd.DataFrame(df.iloc[4].reset_index(drop=True))['Time']\n",
    "\n",
    "vehicle_weight = vehicleWeight.to_frame()\n",
    "humidity = humidity.to_frame()\n",
    "date = date.to_frame()"
   ]
  },
  {
   "cell_type": "code",
   "execution_count": 147,
   "id": "5b7b4a48",
   "metadata": {},
   "outputs": [
    {
     "ename": "AttributeError",
     "evalue": "'DataFrame' object has no attribute 'dt'",
     "output_type": "error",
     "traceback": [
      "\u001b[0;31m---------------------------------------------------------------------------\u001b[0m",
      "\u001b[0;31mAttributeError\u001b[0m                            Traceback (most recent call last)",
      "\u001b[0;32m/tmp/ipykernel_13779/2773552774.py\u001b[0m in \u001b[0;36m<module>\u001b[0;34m\u001b[0m\n\u001b[1;32m      1\u001b[0m \u001b[0;34m\"\"\"Convert timestamp into HH:MM:SS\"\"\"\u001b[0m\u001b[0;34m\u001b[0m\u001b[0;34m\u001b[0m\u001b[0m\n\u001b[0;32m----> 2\u001b[0;31m \u001b[0mdate\u001b[0m\u001b[0;34m.\u001b[0m\u001b[0mdt\u001b[0m\u001b[0;34m.\u001b[0m\u001b[0mdate\u001b[0m\u001b[0;34m\u001b[0m\u001b[0;34m\u001b[0m\u001b[0m\n\u001b[0m",
      "\u001b[0;32m~/.local/lib/python3.10/site-packages/pandas/core/generic.py\u001b[0m in \u001b[0;36m__getattr__\u001b[0;34m(self, name)\u001b[0m\n\u001b[1;32m   5900\u001b[0m         ):\n\u001b[1;32m   5901\u001b[0m             \u001b[0;32mreturn\u001b[0m \u001b[0mself\u001b[0m\u001b[0;34m[\u001b[0m\u001b[0mname\u001b[0m\u001b[0;34m]\u001b[0m\u001b[0;34m\u001b[0m\u001b[0;34m\u001b[0m\u001b[0m\n\u001b[0;32m-> 5902\u001b[0;31m         \u001b[0;32mreturn\u001b[0m \u001b[0mobject\u001b[0m\u001b[0;34m.\u001b[0m\u001b[0m__getattribute__\u001b[0m\u001b[0;34m(\u001b[0m\u001b[0mself\u001b[0m\u001b[0;34m,\u001b[0m \u001b[0mname\u001b[0m\u001b[0;34m)\u001b[0m\u001b[0;34m\u001b[0m\u001b[0;34m\u001b[0m\u001b[0m\n\u001b[0m\u001b[1;32m   5903\u001b[0m \u001b[0;34m\u001b[0m\u001b[0m\n\u001b[1;32m   5904\u001b[0m     \u001b[0;32mdef\u001b[0m \u001b[0m__setattr__\u001b[0m\u001b[0;34m(\u001b[0m\u001b[0mself\u001b[0m\u001b[0;34m,\u001b[0m \u001b[0mname\u001b[0m\u001b[0;34m:\u001b[0m \u001b[0mstr\u001b[0m\u001b[0;34m,\u001b[0m \u001b[0mvalue\u001b[0m\u001b[0;34m)\u001b[0m \u001b[0;34m->\u001b[0m \u001b[0;32mNone\u001b[0m\u001b[0;34m:\u001b[0m\u001b[0;34m\u001b[0m\u001b[0;34m\u001b[0m\u001b[0m\n",
      "\u001b[0;31mAttributeError\u001b[0m: 'DataFrame' object has no attribute 'dt'"
     ]
    }
   ],
   "source": [
    "\"\"\"Convert timestamp into HH:MM:SS\"\"\"\n",
    "date.dt.date"
   ]
  },
  {
   "cell_type": "code",
   "execution_count": 134,
   "id": "3ea045a6",
   "metadata": {},
   "outputs": [],
   "source": [
    "\"\"\"Plotting the Humidity vs Time\"\"\"\n",
    "\n",
    "data = pd.concat([humidity, date], axis=1)\n",
    "# plt.plot(al)\n",
    "# plt.legend(['humidity', 'date'])"
   ]
  },
  {
   "cell_type": "code",
   "execution_count": 137,
   "id": "bd789f40",
   "metadata": {},
   "outputs": [
    {
     "data": {
      "text/plain": [
       "<seaborn.axisgrid.FacetGrid at 0x7f3dcc1bd510>"
      ]
     },
     "execution_count": 137,
     "metadata": {},
     "output_type": "execute_result"
    },
    {
     "data": {
      "image/png": "[encoded data removed]",
      "text/plain": [
       "<Figure size 500x500 with 1 Axes>"
      ]
     },
     "metadata": {},
     "output_type": "display_data"
    }
   ],
   "source": [
    "# Testing out seaborn\n",
    "sns.relplot(data=data, x=\"Time\", y=\"Humidity\", kind=\"line\")\n"
   ]
  },
  {
   "cell_type": "code",
   "execution_count": null,
   "id": "ba104183",
   "metadata": {},
   "outputs": [],
   "source": []
  }
 ],
 "metadata": {
  "kernelspec": {
   "display_name": "Python 3 (ipykernel)",
   "language": "python",
   "name": "python3"
  },
  "language_info": {
   "codemirror_mode": {
    "name": "ipython",
    "version": 3
   },
   "file_extension": ".py",
   "mimetype": "text/x-python",
   "name": "python",
   "nbconvert_exporter": "python",
   "pygments_lexer": "ipython3",
   "version": "3.10.6"
  }
 },
 "nbformat": 4,
 "nbformat_minor": 5
}
