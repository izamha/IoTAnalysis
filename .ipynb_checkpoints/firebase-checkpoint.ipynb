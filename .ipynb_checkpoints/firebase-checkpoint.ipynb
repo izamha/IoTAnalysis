{
 "cells": [
  {
   "cell_type": "code",
   "execution_count": 24,
   "id": "26516f7c",
   "metadata": {},
   "outputs": [],
   "source": [
    "import pandas as pd\n",
    "from firebase import firebase\n",
    "from matplotlib import pyplot as plt"
   ]
  },
  {
   "cell_type": "code",
   "execution_count": 35,
   "id": "f922c821",
   "metadata": {},
   "outputs": [
    {
     "data": {
      "text/plain": [
       "{'1668021419': {'BridgeId': '1',\n",
       "  'Humidity': 46.855507474,\n",
       "  'Latitude': -1.184088,\n",
       "  'Longitude': 27.047712,\n",
       "  'Time': 1668021419,\n",
       "  'VehicleWeight': 337.154299789},\n",
       " '1668021500': {'BridgeId': '1',\n",
       "  'Humidity': 41.527389614,\n",
       "  'Latitude': -1.184088,\n",
       "  'Longitude': 27.047712,\n",
       "  'Time': 1668021500,\n",
       "  'VehicleWeight': 316.949526221},\n",
       " '1668021512': {'BridgeId': '1',\n",
       "  'Humidity': 41.869550534,\n",
       "  'Latitude': -1.184088,\n",
       "  'Longitude': 27.047712,\n",
       "  'Time': 1668021512,\n",
       "  'VehicleWeight': 309.920878662},\n",
       " '1668062652': {'BridgeId': '1',\n",
       "  'Humidity': 33.208562983,\n",
       "  'Latitude': -1.184088,\n",
       "  'Longitude': 27.047712,\n",
       "  'Time': 1668062652,\n",
       "  'VehicleWeight': 337.897285144},\n",
       " '1668062688': {'BridgeId': '1',\n",
       "  'Humidity': 30.278128292,\n",
       "  'Latitude': -1.184088,\n",
       "  'Longitude': 27.047712,\n",
       "  'Time': 1668062688,\n",
       "  'VehicleWeight': 338.872275106},\n",
       " '1668067268': {'BridgeId': '1',\n",
       "  'Humidity': 37.547530886,\n",
       "  'Latitude': -1.184088,\n",
       "  'Longitude': 27.047712,\n",
       "  'Time': 1668067268,\n",
       "  'VehicleWeight': 343.775354815},\n",
       " '1668067344': {'BridgeId': '1',\n",
       "  'Humidity': 47.438952532,\n",
       "  'Latitude': -1.184088,\n",
       "  'Longitude': 27.047712,\n",
       "  'Time': 1668067343,\n",
       "  'VehicleWeight': 310.958267679},\n",
       " '1668071415': {'BridgeId': '1',\n",
       "  'Humidity': 44.303167723,\n",
       "  'Latitude': -1.184088,\n",
       "  'Longitude': 27.047712,\n",
       "  'Time': 1668071415,\n",
       "  'VehicleWeight': 338.441320229},\n",
       " '1668071439': {'BridgeId': '1',\n",
       "  'Humidity': 49.92838054,\n",
       "  'Latitude': -1.184088,\n",
       "  'Longitude': 27.047712,\n",
       "  'Time': 1668071439,\n",
       "  'VehicleWeight': 317.961016903},\n",
       " '1668071465': {'BridgeId': '1',\n",
       "  'Humidity': 45.600857912,\n",
       "  'Latitude': -1.184088,\n",
       "  'Longitude': 27.047712,\n",
       "  'Time': 1668071465,\n",
       "  'VehicleWeight': 345.742595172}}"
      ]
     },
     "execution_count": 35,
     "metadata": {},
     "output_type": "execute_result"
    }
   ],
   "source": [
    "fb = firebase.FirebaseApplication('https://classiot-3ae5a-default-rtdb.firebaseio.com/', None)\n",
    "bridges = fb.get('/Bridges', None)\n",
    "bridges"
   ]
  },
  {
   "cell_type": "code",
   "execution_count": 76,
   "id": "715b1e9f",
   "metadata": {},
   "outputs": [],
   "source": [
    "df = pd.DataFrame.from_dict(bridges)\n",
    "new_df = pd.DataFrame(df.iloc[1])"
   ]
  },
  {
   "cell_type": "code",
   "execution_count": 74,
   "id": "f66486e7",
   "metadata": {},
   "outputs": [
    {
     "data": {
      "text/html": [
       "<div>\n",
       "<style scoped>\n",
       "    .dataframe tbody tr th:only-of-type {\n",
       "        vertical-align: middle;\n",
       "    }\n",
       "\n",
       "    .dataframe tbody tr th {\n",
       "        vertical-align: top;\n",
       "    }\n",
       "\n",
       "    .dataframe thead th {\n",
       "        text-align: right;\n",
       "    }\n",
       "</style>\n",
       "<table border=\"1\" class=\"dataframe\">\n",
       "  <thead>\n",
       "    <tr style=\"text-align: right;\">\n",
       "      <th></th>\n",
       "      <th>1668021419</th>\n",
       "      <th>1668021500</th>\n",
       "      <th>1668021512</th>\n",
       "      <th>1668062652</th>\n",
       "      <th>1668062688</th>\n",
       "      <th>1668067268</th>\n",
       "      <th>1668067344</th>\n",
       "      <th>1668071415</th>\n",
       "      <th>1668071439</th>\n",
       "      <th>1668071465</th>\n",
       "    </tr>\n",
       "  </thead>\n",
       "  <tbody>\n",
       "    <tr>\n",
       "      <th>BridgeId</th>\n",
       "      <td>1</td>\n",
       "      <td>1</td>\n",
       "      <td>1</td>\n",
       "      <td>1</td>\n",
       "      <td>1</td>\n",
       "      <td>1</td>\n",
       "      <td>1</td>\n",
       "      <td>1</td>\n",
       "      <td>1</td>\n",
       "      <td>1</td>\n",
       "    </tr>\n",
       "    <tr>\n",
       "      <th>Humidity</th>\n",
       "      <td>46.855507</td>\n",
       "      <td>41.52739</td>\n",
       "      <td>41.869551</td>\n",
       "      <td>33.208563</td>\n",
       "      <td>30.278128</td>\n",
       "      <td>37.547531</td>\n",
       "      <td>47.438953</td>\n",
       "      <td>44.303168</td>\n",
       "      <td>49.928381</td>\n",
       "      <td>45.600858</td>\n",
       "    </tr>\n",
       "    <tr>\n",
       "      <th>Latitude</th>\n",
       "      <td>-1.184088</td>\n",
       "      <td>-1.184088</td>\n",
       "      <td>-1.184088</td>\n",
       "      <td>-1.184088</td>\n",
       "      <td>-1.184088</td>\n",
       "      <td>-1.184088</td>\n",
       "      <td>-1.184088</td>\n",
       "      <td>-1.184088</td>\n",
       "      <td>-1.184088</td>\n",
       "      <td>-1.184088</td>\n",
       "    </tr>\n",
       "    <tr>\n",
       "      <th>Longitude</th>\n",
       "      <td>27.047712</td>\n",
       "      <td>27.047712</td>\n",
       "      <td>27.047712</td>\n",
       "      <td>27.047712</td>\n",
       "      <td>27.047712</td>\n",
       "      <td>27.047712</td>\n",
       "      <td>27.047712</td>\n",
       "      <td>27.047712</td>\n",
       "      <td>27.047712</td>\n",
       "      <td>27.047712</td>\n",
       "    </tr>\n",
       "    <tr>\n",
       "      <th>Time</th>\n",
       "      <td>1668021419</td>\n",
       "      <td>1668021500</td>\n",
       "      <td>1668021512</td>\n",
       "      <td>1668062652</td>\n",
       "      <td>1668062688</td>\n",
       "      <td>1668067268</td>\n",
       "      <td>1668067343</td>\n",
       "      <td>1668071415</td>\n",
       "      <td>1668071439</td>\n",
       "      <td>1668071465</td>\n",
       "    </tr>\n",
       "    <tr>\n",
       "      <th>VehicleWeight</th>\n",
       "      <td>337.1543</td>\n",
       "      <td>316.949526</td>\n",
       "      <td>309.920879</td>\n",
       "      <td>337.897285</td>\n",
       "      <td>338.872275</td>\n",
       "      <td>343.775355</td>\n",
       "      <td>310.958268</td>\n",
       "      <td>338.44132</td>\n",
       "      <td>317.961017</td>\n",
       "      <td>345.742595</td>\n",
       "    </tr>\n",
       "  </tbody>\n",
       "</table>\n",
       "</div>"
      ],
      "text/plain": [
       "               1668021419  1668021500  1668021512  1668062652  1668062688  \\\n",
       "BridgeId                1           1           1           1           1   \n",
       "Humidity        46.855507    41.52739   41.869551   33.208563   30.278128   \n",
       "Latitude        -1.184088   -1.184088   -1.184088   -1.184088   -1.184088   \n",
       "Longitude       27.047712   27.047712   27.047712   27.047712   27.047712   \n",
       "Time           1668021419  1668021500  1668021512  1668062652  1668062688   \n",
       "VehicleWeight    337.1543  316.949526  309.920879  337.897285  338.872275   \n",
       "\n",
       "               1668067268  1668067344  1668071415  1668071439  1668071465  \n",
       "BridgeId                1           1           1           1           1  \n",
       "Humidity        37.547531   47.438953   44.303168   49.928381   45.600858  \n",
       "Latitude        -1.184088   -1.184088   -1.184088   -1.184088   -1.184088  \n",
       "Longitude       27.047712   27.047712   27.047712   27.047712   27.047712  \n",
       "Time           1668067268  1668067343  1668071415  1668071439  1668071465  \n",
       "VehicleWeight  343.775355  310.958268   338.44132  317.961017  345.742595  "
      ]
     },
     "execution_count": 74,
     "metadata": {},
     "output_type": "execute_result"
    }
   ],
   "source": [
    "df"
   ]
  },
  {
   "cell_type": "code",
   "execution_count": 70,
   "id": "6e7fb56c",
   "metadata": {},
   "outputs": [
    {
     "data": {
      "text/html": [
       "<div>\n",
       "<style scoped>\n",
       "    .dataframe tbody tr th:only-of-type {\n",
       "        vertical-align: middle;\n",
       "    }\n",
       "\n",
       "    .dataframe tbody tr th {\n",
       "        vertical-align: top;\n",
       "    }\n",
       "\n",
       "    .dataframe thead th {\n",
       "        text-align: right;\n",
       "    }\n",
       "</style>\n",
       "<table border=\"1\" class=\"dataframe\">\n",
       "  <thead>\n",
       "    <tr style=\"text-align: right;\">\n",
       "      <th></th>\n",
       "      <th>Humidity</th>\n",
       "    </tr>\n",
       "  </thead>\n",
       "  <tbody>\n",
       "    <tr>\n",
       "      <th>1668021419</th>\n",
       "      <td>46.855507</td>\n",
       "    </tr>\n",
       "    <tr>\n",
       "      <th>1668021500</th>\n",
       "      <td>41.52739</td>\n",
       "    </tr>\n",
       "    <tr>\n",
       "      <th>1668021512</th>\n",
       "      <td>41.869551</td>\n",
       "    </tr>\n",
       "    <tr>\n",
       "      <th>1668062652</th>\n",
       "      <td>33.208563</td>\n",
       "    </tr>\n",
       "    <tr>\n",
       "      <th>1668062688</th>\n",
       "      <td>30.278128</td>\n",
       "    </tr>\n",
       "    <tr>\n",
       "      <th>1668067268</th>\n",
       "      <td>37.547531</td>\n",
       "    </tr>\n",
       "    <tr>\n",
       "      <th>1668067344</th>\n",
       "      <td>47.438953</td>\n",
       "    </tr>\n",
       "    <tr>\n",
       "      <th>1668071415</th>\n",
       "      <td>44.303168</td>\n",
       "    </tr>\n",
       "    <tr>\n",
       "      <th>1668071439</th>\n",
       "      <td>49.928381</td>\n",
       "    </tr>\n",
       "    <tr>\n",
       "      <th>1668071465</th>\n",
       "      <td>45.600858</td>\n",
       "    </tr>\n",
       "  </tbody>\n",
       "</table>\n",
       "</div>"
      ],
      "text/plain": [
       "             Humidity\n",
       "1668021419  46.855507\n",
       "1668021500   41.52739\n",
       "1668021512  41.869551\n",
       "1668062652  33.208563\n",
       "1668062688  30.278128\n",
       "1668067268  37.547531\n",
       "1668067344  47.438953\n",
       "1668071415  44.303168\n",
       "1668071439  49.928381\n",
       "1668071465  45.600858"
      ]
     },
     "execution_count": 70,
     "metadata": {},
     "output_type": "execute_result"
    }
   ],
   "source": [
    "new_df"
   ]
  },
  {
   "cell_type": "code",
   "execution_count": 77,
   "id": "ca75a9aa",
   "metadata": {},
   "outputs": [
    {
     "data": {
      "text/plain": [
       "Text(0.5, 1.0, 'Humidity Changes vs. Time')"
      ]
     },
     "execution_count": 77,
     "metadata": {},
     "output_type": "execute_result"
    },
    {
     "data": {
      "image/png": "[encoded data removed]",
      "text/plain": [
       "<Figure size 640x480 with 1 Axes>"
      ]
     },
     "metadata": {},
     "output_type": "display_data"
    }
   ],
   "source": [
    "plt.plot(new_df)\n",
    "plt.title('Humidity Changes vs. Time')"
   ]
  },
  {
   "cell_type": "code",
   "execution_count": 101,
   "id": "c3baa17d",
   "metadata": {},
   "outputs": [],
   "source": [
    "humidity = pd.DataFrame(df.iloc[1])['Humidity']\n",
    "vehicleWeight = pd.DataFrame(df.iloc[5])['VehicleWeight']\n",
    "\n",
    "vehicle_weight = vehicleWeight.to_frame()\n",
    "humidity = humidity.to_frame()"
   ]
  },
  {
   "cell_type": "code",
   "execution_count": 102,
   "id": "fc5b0453",
   "metadata": {},
   "outputs": [
    {
     "name": "stderr",
     "output_type": "stream",
     "text": [
      "/tmp/ipykernel_13779/971965815.py:1: FutureWarning: In a future version of pandas all arguments of concat except for the argument 'objs' will be keyword-only.\n",
      "  al = pd.concat(vehicle_weight, humidity)\n"
     ]
    },
    {
     "ename": "TypeError",
     "evalue": "first argument must be an iterable of pandas objects, you passed an object of type \"DataFrame\"",
     "output_type": "error",
     "traceback": [
      "\u001b[0;31m---------------------------------------------------------------------------\u001b[0m",
      "\u001b[0;31mTypeError\u001b[0m                                 Traceback (most recent call last)",
      "\u001b[0;32m/tmp/ipykernel_13779/971965815.py\u001b[0m in \u001b[0;36m<module>\u001b[0;34m\u001b[0m\n\u001b[0;32m----> 1\u001b[0;31m \u001b[0mal\u001b[0m \u001b[0;34m=\u001b[0m \u001b[0mpd\u001b[0m\u001b[0;34m.\u001b[0m\u001b[0mconcat\u001b[0m\u001b[0;34m(\u001b[0m\u001b[0mvehicle_weight\u001b[0m\u001b[0;34m,\u001b[0m \u001b[0mhumidity\u001b[0m\u001b[0;34m)\u001b[0m\u001b[0;34m\u001b[0m\u001b[0;34m\u001b[0m\u001b[0m\n\u001b[0m",
      "\u001b[0;32m~/.local/lib/python3.10/site-packages/pandas/util/_decorators.py\u001b[0m in \u001b[0;36mwrapper\u001b[0;34m(*args, **kwargs)\u001b[0m\n\u001b[1;32m    329\u001b[0m                     \u001b[0mstacklevel\u001b[0m\u001b[0;34m=\u001b[0m\u001b[0mfind_stack_level\u001b[0m\u001b[0;34m(\u001b[0m\u001b[0;34m)\u001b[0m\u001b[0;34m,\u001b[0m\u001b[0;34m\u001b[0m\u001b[0;34m\u001b[0m\u001b[0m\n\u001b[1;32m    330\u001b[0m                 )\n\u001b[0;32m--> 331\u001b[0;31m             \u001b[0;32mreturn\u001b[0m \u001b[0mfunc\u001b[0m\u001b[0;34m(\u001b[0m\u001b[0;34m*\u001b[0m\u001b[0margs\u001b[0m\u001b[0;34m,\u001b[0m \u001b[0;34m**\u001b[0m\u001b[0mkwargs\u001b[0m\u001b[0;34m)\u001b[0m\u001b[0;34m\u001b[0m\u001b[0;34m\u001b[0m\u001b[0m\n\u001b[0m\u001b[1;32m    332\u001b[0m \u001b[0;34m\u001b[0m\u001b[0m\n\u001b[1;32m    333\u001b[0m         \u001b[0;31m# error: \"Callable[[VarArg(Any), KwArg(Any)], Any]\" has no\u001b[0m\u001b[0;34m\u001b[0m\u001b[0;34m\u001b[0m\u001b[0m\n",
      "\u001b[0;32m~/.local/lib/python3.10/site-packages/pandas/core/reshape/concat.py\u001b[0m in \u001b[0;36mconcat\u001b[0;34m(objs, axis, join, ignore_index, keys, levels, names, verify_integrity, sort, copy)\u001b[0m\n\u001b[1;32m    366\u001b[0m     \u001b[0;36m1\u001b[0m   \u001b[0;36m3\u001b[0m   \u001b[0;36m4\u001b[0m\u001b[0;34m\u001b[0m\u001b[0;34m\u001b[0m\u001b[0m\n\u001b[1;32m    367\u001b[0m     \"\"\"\n\u001b[0;32m--> 368\u001b[0;31m     op = _Concatenator(\n\u001b[0m\u001b[1;32m    369\u001b[0m         \u001b[0mobjs\u001b[0m\u001b[0;34m,\u001b[0m\u001b[0;34m\u001b[0m\u001b[0;34m\u001b[0m\u001b[0m\n\u001b[1;32m    370\u001b[0m         \u001b[0maxis\u001b[0m\u001b[0;34m=\u001b[0m\u001b[0maxis\u001b[0m\u001b[0;34m,\u001b[0m\u001b[0;34m\u001b[0m\u001b[0;34m\u001b[0m\u001b[0m\n",
      "\u001b[0;32m~/.local/lib/python3.10/site-packages/pandas/core/reshape/concat.py\u001b[0m in \u001b[0;36m__init__\u001b[0;34m(self, objs, axis, join, keys, levels, names, ignore_index, verify_integrity, copy, sort)\u001b[0m\n\u001b[1;32m    401\u001b[0m     ) -> None:\n\u001b[1;32m    402\u001b[0m         \u001b[0;32mif\u001b[0m \u001b[0misinstance\u001b[0m\u001b[0;34m(\u001b[0m\u001b[0mobjs\u001b[0m\u001b[0;34m,\u001b[0m \u001b[0;34m(\u001b[0m\u001b[0mABCSeries\u001b[0m\u001b[0;34m,\u001b[0m \u001b[0mABCDataFrame\u001b[0m\u001b[0;34m,\u001b[0m \u001b[0mstr\u001b[0m\u001b[0;34m)\u001b[0m\u001b[0;34m)\u001b[0m\u001b[0;34m:\u001b[0m\u001b[0;34m\u001b[0m\u001b[0;34m\u001b[0m\u001b[0m\n\u001b[0;32m--> 403\u001b[0;31m             raise TypeError(\n\u001b[0m\u001b[1;32m    404\u001b[0m                 \u001b[0;34m\"first argument must be an iterable of pandas \"\u001b[0m\u001b[0;34m\u001b[0m\u001b[0;34m\u001b[0m\u001b[0m\n\u001b[1;32m    405\u001b[0m                 \u001b[0;34mf'objects, you passed an object of type \"{type(objs).__name__}\"'\u001b[0m\u001b[0;34m\u001b[0m\u001b[0;34m\u001b[0m\u001b[0m\n",
      "\u001b[0;31mTypeError\u001b[0m: first argument must be an iterable of pandas objects, you passed an object of type \"DataFrame\""
     ]
    }
   ],
   "source": [
    "al = pd.concat(vehicle_weight, humidity)"
   ]
  }
 ],
 "metadata": {
  "kernelspec": {
   "display_name": "Python 3 (ipykernel)",
   "language": "python",
   "name": "python3"
  },
  "language_info": {
   "codemirror_mode": {
    "name": "ipython",
    "version": 3
   },
   "file_extension": ".py",
   "mimetype": "text/x-python",
   "name": "python",
   "nbconvert_exporter": "python",
   "pygments_lexer": "ipython3",
   "version": "3.10.6"
  }
 },
 "nbformat": 4,
 "nbformat_minor": 5
}
