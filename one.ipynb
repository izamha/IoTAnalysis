{
 "cells": [
  {
   "cell_type": "code",
   "execution_count": 10,
   "id": "bbd2b0fd",
   "metadata": {},
   "outputs": [],
   "source": [
    "import json\n",
    "from IPython.display import HTML\n",
    "import pandas as pd"
   ]
  },
  {
   "cell_type": "code",
   "execution_count": 20,
   "id": "1610764d",
   "metadata": {},
   "outputs": [],
   "source": [
    "year2015 = pd.read_csv('data/2015.csv')\n",
    "year2016 = pd.read_csv('data/2016.csv')\n",
    "year2017 = pd.read_csv('data/2017.csv')\n",
    "year2018 = pd.read_csv('data/2018.csv')\n",
    "year2019 = pd.read_csv('data/2019.csv')\n",
    "\n",
    "df = pd.concat([year2015, year2016, year2017, year2018, year2019], ignore_index=True)\n"
   ]
  },
  {
   "cell_type": "code",
   "execution_count": 21,
   "id": "6b2a5739",
   "metadata": {},
   "outputs": [],
   "source": [
    "json_data = df.to_json(orient='records')"
   ]
  }
 ],
 "metadata": {
  "kernelspec": {
   "display_name": "Python 3 (ipykernel)",
   "language": "python",
   "name": "python3"
  },
  "language_info": {
   "codemirror_mode": {
    "name": "ipython",
    "version": 3
   },
   "file_extension": ".py",
   "mimetype": "text/x-python",
   "name": "python",
   "nbconvert_exporter": "python",
   "pygments_lexer": "ipython3",
   "version": "3.10.6"
  }
 },
 "nbformat": 4,
 "nbformat_minor": 5
}
